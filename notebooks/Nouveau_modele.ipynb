{
 "cells": [
  {
   "cell_type": "markdown",
   "metadata": {},
   "source": [
    "# Les types de modèles de propagation"
   ]
  },
  {
   "cell_type": "markdown",
   "metadata": {},
   "source": [
    "* Le modèle SI est un modèle où il n'y a que deux possibilités : ou bien l'individu est susceptible d'être infecté (S), ou bien il est infecté à vie (I). Cela s'applique par exemple au cas du SIDA. Pour le coronavirus, nous ne l'utiliserons pas.\n",
    "* Le modèle SIR est un modèle où l'individu peut être guéri du virus, et être donc immunisé (R). Ce modèle s'applique bien au problème du coronavirus, et nous l'avons déjà modélisé.\n",
    "* Le modèle SIS est un modèle où l'individu peut guérir, mais est alors de nouveau susceptible d'être infecté. Il n'y a pas d'immunité. On va tester ce modèle là, puisque nous n'avons pas la certitude qu'il est impossible de contracter plusieurs fois le coronavirus. \n",
    "* Dans le modèle SEIR, il y a un état intermédiaire, exposé (E). Un individu qui a été au contact d'une personne infectée devient infecté avec une certaine probabilité. L'individu peut être susceptible, exposé, infecté puis immunisé.\n",
    "* Le modèle SEIS est identique au modèle SEIR mais sans immunité.\n",
    "\n",
    "D'autres caractéristiques peuvent être ajoutées à ces modèles, tels que la possibilité de déceder (D), d'être mis en quarantaine (Q) ou encore d'êre immunisé à la naissance (M)."
   ]
  },
  {
   "cell_type": "markdown",
   "metadata": {},
   "source": [
    "# Choix d'un modèle de propagation du virus"
   ]
  },
  {
   "cell_type": "markdown",
   "metadata": {},
   "source": [
    "Je vais donc tester un modèle SIS où les individus qui guérissent du coronavirus sont de nouveau susceptobles de tomber malade."
   ]
  },
  {
   "cell_type": "code",
   "execution_count": 1,
   "metadata": {},
   "outputs": [],
   "source": [
    "import datetime\n",
    "import os\n",
    "import yaml\n",
    "\n",
    "import numpy as np\n",
    "import pandas as pd"
   ]
  },
  {
   "cell_type": "code",
   "execution_count": 2,
   "metadata": {},
   "outputs": [],
   "source": [
    "# Lecture du fichier d'environnement\n",
    "ENV_FILE = '..\\env.yaml'\n",
    "with open(ENV_FILE) as f:\n",
    "    params = yaml.load(f , Loader=yaml.FullLoader)\n",
    "\n",
    "# Initialisation des chemins vers les fichiers\n",
    "ROOT_DIR = os.path.dirname(os.path.abspath(ENV_FILE))\n",
    "DATA_FILE = os.path.join(ROOT_DIR,\n",
    "                         params['directories']['processed'],\n",
    "                         params['files']['all_data'])\n",
    "\n",
    "# Lecture du fichier de données\n",
    "epidemie_df = (pd.read_csv(DATA_FILE, parse_dates=['Last Update'])\n",
    "    .assign(day=lambda _df: _df['Last Update'].dt.date)\n",
    "               .drop_duplicates(subset=['Country/Region', 'Province/State', 'day'])\n",
    "               [lambda df: df['day'] <= datetime.date(2020, 3, 12)]\n",
    "    )"
   ]
  },
  {
   "cell_type": "code",
   "execution_count": 3,
   "metadata": {},
   "outputs": [],
   "source": [
    "epidemie_df =epidemie_df.groupby(['Country/Region', 'day']).sum()\n",
    "epidemie_df['Infected'] = epidemie_df['Confirmed'].groupby(['Country/Region']).diff()\n",
    "epidemie_df = epidemie_df.reset_index()"
   ]
  },
  {
   "cell_type": "code",
   "execution_count": 4,
   "metadata": {},
   "outputs": [],
   "source": [
    "# Importation de la base de données de la Banque Mondiale pour la population par pays en 2018\n",
    "\n",
    "import pandas as pd\n",
    "\n",
    "pop_df = pd.read_excel(r'..\\Population.xlsx')"
   ]
  },
  {
   "cell_type": "code",
   "execution_count": 5,
   "metadata": {},
   "outputs": [],
   "source": [
    "pop_df = pop_df[['Country Name','2018 [YR2018]']]\n",
    "pop_df = pop_df.rename(columns={\"Country Name\": \"Country\", \"2018 [YR2018]\": \"Population\"})"
   ]
  },
  {
   "cell_type": "code",
   "execution_count": 6,
   "metadata": {},
   "outputs": [],
   "source": [
    "epidemie_df = epidemie_df.rename(columns={'Country/Region':'Country'})"
   ]
  },
  {
   "cell_type": "code",
   "execution_count": 7,
   "metadata": {},
   "outputs": [],
   "source": [
    "# Pour pouvoir merger les deux base de données, je fais en sorte que les noms des pays soient identiques\n",
    "\n",
    "pop_df.loc[(pop_df.Country == 'Brunei Darussalam'),'Country']='Brunei'\n",
    "pop_df.loc[(pop_df.Country == 'Congo, Dem. Rep.'),'Country']='Congo (Kinshasa)'\n",
    "pop_df.loc[(pop_df.Country == 'United States'),'Country']='US'\n",
    "pop_df.loc[(pop_df.Country == 'Egypt, Arab Rep.'),'Country']='Egypt'\n",
    "pop_df.loc[(pop_df.Country == 'United Kingdom'),'Country']='UK'\n",
    "pop_df.loc[(pop_df.Country == 'Hong Kong SAR, China'),'Country']='Hong Kong'\n",
    "pop_df.loc[(pop_df.Country == 'Iran, Islamic Rep.'),'Country']='Iran'\n",
    "pop_df.loc[(pop_df.Country == 'Korea, Rep.'),'Country']='South Korea'\n",
    "pop_df.loc[(pop_df.Country == 'Macao SAR, China'),'Country']='Macau'\n",
    "pop_df.loc[(pop_df.Country == 'China'),'Country']='Mainland China'\n",
    "pop_df.loc[(pop_df.Country == 'Russian Federation'),'Country']='Russia'\n",
    "pop_df.loc[(pop_df.Country == 'St. Martin (French part)'),'Country']='Saint Martin'\n",
    "pop_df.loc[(pop_df.Country == 'Slovak Republic'),'Country']='Slovakia'"
   ]
  },
  {
   "cell_type": "code",
   "execution_count": 8,
   "metadata": {},
   "outputs": [],
   "source": [
    "# Je merge les deux base de données, certaines regions n'ont pas pu être mergées\n",
    "# Pour celles-là, il faudra entrer manuellement la population\n",
    "\n",
    "final_df=pd.merge(epidemie_df, pop_df, on='Country', how='outer', indicator=True)\n",
    "final_df=final_df[final_df['_merge'] == \"both\"]"
   ]
  },
  {
   "cell_type": "code",
   "execution_count": 9,
   "metadata": {},
   "outputs": [],
   "source": [
    "# Cette fonction défini la taille de la population selon le pays pour lequel on veut avoir la propagation du virus\n",
    "\n",
    "def pop_pays(pays):\n",
    "    global pop\n",
    "    pop=final_df[final_df['Country'] == pays]['Population'].iloc[0]"
   ]
  },
  {
   "cell_type": "code",
   "execution_count": 15,
   "metadata": {},
   "outputs": [
    {
     "data": {
      "text/plain": [
       "66987244"
      ]
     },
     "execution_count": 15,
     "metadata": {},
     "output_type": "execute_result"
    }
   ],
   "source": [
    "# Choix du pays à modéliser\n",
    "\n",
    "pop_pays('France')\n",
    "pop"
   ]
  },
  {
   "cell_type": "code",
   "execution_count": 16,
   "metadata": {},
   "outputs": [],
   "source": [
    "# Modèle SIS\n",
    "\n",
    "import matplotlib.pylab as plt\n",
    "\n",
    "S = pop - 1\n",
    "I = 1\n",
    "beta = 0.2\n",
    "gamma = 0.01\n",
    "\n",
    "sus = []\n",
    "inf = []\n",
    "\n",
    "def infection(S, I, pop):\n",
    "    for t in range (0, 500):\n",
    "        S, I = S - beta * ((S * I / pop)) + gamma * I, I + beta * ((S * I) / pop) - gamma * I\n",
    "\n",
    "        sus.append(S)\n",
    "        inf.append(I)\n",
    "\n",
    "\n",
    "infection(S, I, pop)\n",
    "\n"
   ]
  },
  {
   "cell_type": "code",
   "execution_count": 20,
   "metadata": {},
   "outputs": [
    {
     "data": {
      "image/png": "[encoded data removed]",
      "text/plain": [
       "<Figure size 432x288 with 1 Axes>"
      ]
     },
     "metadata": {
      "needs_background": "light"
     },
     "output_type": "display_data"
    }
   ],
   "source": [
    "figure = plt.figure()\n",
    "figure.canvas.set_window_title('SIS model')\n",
    "\n",
    "infectes,=plt.plot(inf, label='Infectes')\n",
    "\n",
    "susceptibles,=plt.plot(sus, label='Susceptibles')\n",
    "\n",
    "plt.legend(handles=[infectes, susceptibles])\n",
    "\n",
    "\n",
    "plt.xlabel('Temps')\n",
    "plt.ylabel('Population')\n",
    "\n",
    "plt.show()"
   ]
  },
  {
   "cell_type": "code",
   "execution_count": 21,
   "metadata": {},
   "outputs": [
    {
     "data": {
      "text/plain": [
       "1392730000"
      ]
     },
     "execution_count": 21,
     "metadata": {},
     "output_type": "execute_result"
    }
   ],
   "source": [
    "pop_pays('Mainland China')\n",
    "pop"
   ]
  },
  {
   "cell_type": "code",
   "execution_count": 22,
   "metadata": {},
   "outputs": [
    {
     "data": {
      "image/png": "[encoded data removed]",
      "text/plain": [
       "<Figure size 432x288 with 1 Axes>"
      ]
     },
     "metadata": {
      "needs_background": "light"
     },
     "output_type": "display_data"
    }
   ],
   "source": [
    "# Modèle SIS\n",
    "\n",
    "import matplotlib.pylab as plt\n",
    "\n",
    "S = pop - 1\n",
    "I = 1\n",
    "beta = 0.2\n",
    "gamma = 0.01\n",
    "\n",
    "sus = []\n",
    "inf = []\n",
    "\n",
    "def infection(S, I, pop):\n",
    "    for t in range (0, 500):\n",
    "        S, I = S - beta * ((S * I / pop)) + gamma * I, I + beta * ((S * I) / pop) - gamma * I\n",
    "\n",
    "        sus.append(S)\n",
    "        inf.append(I)\n",
    "\n",
    "\n",
    "infection(S, I, pop)\n",
    "\n",
    "figure = plt.figure()\n",
    "figure.canvas.set_window_title('SIS model')\n",
    "\n",
    "infectes,=plt.plot(inf, label='Infectes')\n",
    "\n",
    "susceptibles,=plt.plot(sus, label='Susceptibles')\n",
    "\n",
    "plt.legend(handles=[infectes, susceptibles])\n",
    "\n",
    "\n",
    "plt.xlabel('Temps')\n",
    "plt.ylabel('Population')\n",
    "\n",
    "plt.show()"
   ]
  },
  {
   "cell_type": "code",
   "execution_count": null,
   "metadata": {},
   "outputs": [],
   "source": []
  }
 ],
 "metadata": {
  "kernelspec": {
   "display_name": "Python 3",
   "language": "python",
   "name": "python3"
  },
  "language_info": {
   "codemirror_mode": {
    "name": "ipython",
    "version": 3
   },
   "file_extension": ".py",
   "mimetype": "text/x-python",
   "name": "python",
   "nbconvert_exporter": "python",
   "pygments_lexer": "ipython3",
   "version": "3.7.6"
  }
 },
 "nbformat": 4,
 "nbformat_minor": 4
}
